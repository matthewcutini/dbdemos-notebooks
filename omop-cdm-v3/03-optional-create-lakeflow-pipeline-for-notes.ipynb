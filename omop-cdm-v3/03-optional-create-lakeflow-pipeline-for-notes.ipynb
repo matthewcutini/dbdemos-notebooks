{
 "cells": [
  {
   "cell_type": "code",
   "execution_count": 0,
   "metadata": {
    "application/vnd.databricks.v1+cell": {
     "cellMetadata": {
      "byteLimit": 2048000,
      "rowLimit": 10000
     },
     "inputWidgets": {},
     "nuid": "80c07f18-ffc2-4fd7-b236-0b1cb2876431",
     "showTitle": false,
     "tableResultSettingsMap": {},
     "title": ""
    }
   },
   "outputs": [],
   "source": [
    "import dlt\n",
    "from pyspark.sql.functions import *\n",
    "\n",
    "@dlt.table\n",
    "def notes_st():\n",
    "    \"\"\"\n",
    "    Reads the raw clinical notes TXT data as a streaming source.\n",
    "    \"\"\"\n",
    "    path = \"/Volumes/hls_omop/cdm_542/landing/notes\"\n",
    "\n",
    "    schema = \"\"\"\n",
    "        value STRING,\n",
    "        note_id STRING\n",
    "    \"\"\"\n",
    "\n",
    "    return (\n",
    "        spark.readStream.schema(schema)\n",
    "            .format(\"cloudFiles\")\n",
    "            .option(\"cloudFiles.format\", \"text\")\n",
    "            .option(\"wholeText\", True)\n",
    "            .load(path)\n",
    "            .withColumn(\"note_id\", col(\"_metadata.file_name\"))\n",
    "            )"
   ]
  },
  {
   "cell_type": "code",
   "execution_count": 0,
   "metadata": {
    "application/vnd.databricks.v1+cell": {
     "cellMetadata": {
      "byteLimit": 2048000,
      "rowLimit": 10000
     },
     "inputWidgets": {},
     "nuid": "c277e2e1-5858-489c-8b6a-cbf60a379a9d",
     "showTitle": false,
     "tableResultSettingsMap": {},
     "title": ""
    }
   },
   "outputs": [],
   "source": [
    "@dlt.table\n",
    "def notes_mv():\n",
    "    \"\"\"\n",
    "    Strips the patient name and the patient ID out of the note ID field and creates two new fields for them.\n",
    "    \"\"\"\n",
    "    return (\n",
    "    spark.read.table(\"notes_st\")\n",
    "    .withColumnRenamed(\"value\", \"note_text\")\n",
    "    .withColumn(\"patient_name\", regexp_replace(regexp_substr('note_id', lit(r'^([A-Za-záéíóúÁÉÍÓÚ]*_){1,4}')), '_', ' '))\n",
    "    .withColumn(\"patient_id\", regexp_substr('note_id', lit(r'[a-z0-9]*-[a-z0-9]*-[a-z0-9]*-[a-z0-9]*-[a-z0-9]*')))\n",
    ")"
   ]
  }
 ],
 "metadata": {
  "application/vnd.databricks.v1+notebook": {
   "computePreferences": null,
   "dashboards": [],
   "environmentMetadata": {
    "base_environment": "dbe_41a50460-c90b-4840-9288-afcb847395d5",
    "environment_version": "2"
   },
   "inputWidgetPreferences": null,
   "language": "python",
   "notebookMetadata": {
    "pythonIndentUnit": 2
   },
   "notebookName": "03-optional-create-lakeflow-pipeline-for-notes",
   "widgets": {}
  },
  "language_info": {
   "name": "python"
  }
 },
 "nbformat": 4,
 "nbformat_minor": 0
}
